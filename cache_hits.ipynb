{
 "cells": [
  {
   "cell_type": "markdown",
   "metadata": {},
   "source": [
    "When training a graph neural network, we like to train them in a mini-batch fashion. When we need to scale the training to a large graph for GPU training, we need to keep node/edge data in CPU and stream data to GPU. Potentially, we can deploy a cache in GPU to reduce the amount of data sent to GPU.\n",
    "\n",
    "This notebook studies the potential cache hits for the mini-batch training in the GPU cache. This study assumes we use neighbor sampling to generate mini-batches and the neighbors are sampled uniformly at random. Apparently, the cache hits very much depend on the datasets."
   ]
  },
  {
   "cell_type": "code",
   "execution_count": null,
   "metadata": {},
   "outputs": [],
   "source": [
    "import dgl\n",
    "from dgl.data import RedditDataset"
   ]
  },
  {
   "cell_type": "markdown",
   "metadata": {},
   "source": [
    "## Study with the Reddit dataset\n",
    "\n",
    "This is commonly used benchmark for many graph neural networks. I have to say that this graph has quite different characteristics from other graphs. For instance, this graph is very dense. $|E|/|V|=492$"
   ]
  },
  {
   "cell_type": "code",
   "execution_count": 3,
   "metadata": {},
   "outputs": [
    {
     "name": "stdout",
     "output_type": "stream",
     "text": [
      "Finished data loading.\n",
      "  NumNodes: 232965\n",
      "  NumEdges: 114615892\n",
      "  NumFeats: 602\n",
      "  NumClasses: 41\n",
      "  NumTrainingSamples: 153431\n",
      "  NumValidationSamples: 23831\n",
      "  NumTestSamples: 55703\n"
     ]
    }
   ],
   "source": [
    "data = RedditDataset()\n",
    "g = data.graph"
   ]
  },
  {
   "cell_type": "markdown",
   "metadata": {},
   "source": [
    "Now let's study if the graph has power-law distribution on degree."
   ]
  },
  {
   "cell_type": "code",
   "execution_count": 32,
   "metadata": {},
   "outputs": [],
   "source": [
    "indeg = g.in_degrees().numpy()"
   ]
  },
  {
   "cell_type": "code",
   "execution_count": 33,
   "metadata": {},
   "outputs": [
    {
     "data": {
      "text/plain": [
       "(array([225032,   6253,   1154,    329,    122,     35,     20,     12,\n",
       "             5,      3]),\n",
       " array([1.00000e+00, 2.16660e+03, 4.33220e+03, 6.49780e+03, 8.66340e+03,\n",
       "        1.08290e+04, 1.29946e+04, 1.51602e+04, 1.73258e+04, 1.94914e+04,\n",
       "        2.16570e+04]))"
      ]
     },
     "execution_count": 33,
     "metadata": {},
     "output_type": "execute_result"
    }
   ],
   "source": [
    "import numpy as np\n",
    "np.histogram(indeg)"
   ]
  },
  {
   "cell_type": "code",
   "execution_count": 34,
   "metadata": {},
   "outputs": [
    {
     "name": "stdout",
     "output_type": "stream",
     "text": [
      "[0.4610557059574252, 0.6507358246620809, 0.7729067187297203, 0.8553303585509765, 0.9120411242796941, 0.950705745063695, 0.9759073026278067, 0.9909700829270691, 0.998197998581209, 1.0]\n"
     ]
    }
   ],
   "source": [
    "indeg = np.sort(indeg)\n",
    "ratio = []\n",
    "for i in range(10):\n",
    "    r = np.sum(indeg[int(len(indeg)/10*(9-i)):])/np.sum(indeg)\n",
    "    ratio.append(r)\n",
    "print(ratio)"
   ]
  },
  {
   "cell_type": "markdown",
   "metadata": {},
   "source": [
    "The degree of this graph isn't very skewed compared with many other graphs, but the 10% largest-degree nodes have edges that account for close to 50%."
   ]
  },
  {
   "cell_type": "code",
   "execution_count": 12,
   "metadata": {},
   "outputs": [
    {
     "data": {
      "image/png": "[encoded data removed]",
      "text/plain": [
       "<Figure size 432x288 with 1 Axes>"
      ]
     },
     "metadata": {
      "needs_background": "light"
     },
     "output_type": "display_data"
    }
   ],
   "source": [
    "import matplotlib.pyplot as plt\n",
    "plt.plot(np.arange(10)*0.1, np.array(ratio))\n",
    "plt.ylabel('cache hits')\n",
    "plt.xlabel('percent of nodes')\n",
    "plt.show()"
   ]
  },
  {
   "cell_type": "markdown",
   "metadata": {},
   "source": [
    "## Simulate cache hits\n",
    "\n",
    "One effective way of caching nodes in a power-law graph is to use LFU (least-frequently used). The simulation here is to basically keep the highest-degree nodes in the cache and see what cache hits it can generate. This simulation should generate the lower bound of the cache hits."
   ]
  },
  {
   "cell_type": "code",
   "execution_count": 19,
   "metadata": {},
   "outputs": [],
   "source": [
    "def cache_hits(cnts, ratio):\n",
    "    indeg = g.in_degrees().numpy()\n",
    "    indeg1 = np.sort(indeg)\n",
    "    deg_threshold = indeg1[int(len(indeg1) * (1-ratio))]\n",
    "    return np.sum(cnts[indeg > deg_threshold])/np.sum(cnts)"
   ]
  },
  {
   "cell_type": "markdown",
   "metadata": {},
   "source": [
    "We study cache hits for 2-layer GNN. If we cache node features, the cache hits also depend on how GNN uses node features. Typical GNN such as GCN only reads node features in the first layer (farthest away from the target nodes). But it's possible that some GNNs read node features in all layers. Therefore, I calculate the cache hits for both cases.\n",
    "\n",
    "Another factor can also affect the cache hit ratio. That is the batch size. The reason that batch size affects the cache hits is that in each layer we only read the features of a node once no matter how many times it appears in some nodes' neighborhood. Therefore, when the batch size is large, large-degree nodes appear many times in a layer but it only reads once. This reduces the cache hit ratio of the large-degree nodes.\n",
    "\n",
    "We can see that when the batch size is small, such as 10, the cache hit ratio is significantly higher, especially for the first layer. The reason that the batch size affects the cache hits so much is that the graph is very small. Its impact on a large graph will be much smaller unless we want to use very large batch size.\n",
    "\n",
    "Another thing we can notice is that the simulated cache hit ratio doesn't really follow the degree distribution. The previous calculation shows that the 10% largest-degree nodes have edges that account for close to 50%. However, if we cache the 10% large-degree nodes, we only get roughly 36% cache hits. This may suggest that the high-degree nodes are not well connected. In other words, a high-degree tends to connect with lower-degree nodes in Reddit. This is not necessary true in other datasets. More study is needed."
   ]
  },
  {
   "cell_type": "code",
   "execution_count": 45,
   "metadata": {},
   "outputs": [
    {
     "name": "stdout",
     "output_type": "stream",
     "text": [
      "batch size: 10\n",
      "Cache hits on the first layer: 0.3676127319531331\n",
      "Cache hits on the layer next to the target nodes: 0.34831136887783104\n",
      "Cache hits on all layers 0.3632525863003831\n",
      "batch size: 100\n",
      "Cache hits on the first layer: 0.3506776546248809\n",
      "Cache hits on the layer next to the target nodes: 0.34588689312770177\n",
      "Cache hits on all layers 0.34768677866555925\n",
      "batch size: 1000\n",
      "Cache hits on the first layer: 0.2589117913222216\n",
      "Cache hits on the layer next to the target nodes: 0.32790616542030304\n",
      "Cache hits on all layers 0.265536712964693\n",
      "batch size: 10000\n",
      "Cache hits on the first layer: 0.14143135885340843\n",
      "Cache hits on the layer next to the target nodes: 0.23894818163609832\n",
      "Cache hits on all layers 0.16606403044928356\n"
     ]
    }
   ],
   "source": [
    "num_neighbors = 10\n",
    "num_hops = 2\n",
    "batch_size = 10\n",
    "for batch_size in [10, 100, 1000, 10000]:\n",
    "    last_layer_cnts = np.zeros(g.number_of_nodes())\n",
    "    first_layer_cnts = np.zeros(g.number_of_nodes())\n",
    "    all_layer_cnts = np.zeros(g.number_of_nodes())\n",
    "    for nf in dgl.contrib.sampling.NeighborSampler(g, batch_size,\n",
    "                                                   num_neighbors,\n",
    "                                                   neighbor_type='in',\n",
    "                                                   num_workers=32,\n",
    "                                                   num_hops=num_hops):\n",
    "        last_layer_cnts[nf.layer_parent_nid(0)] += 1\n",
    "        first_layer_cnts[nf.layer_parent_nid(-2)] += 1\n",
    "        for i in range(nf.num_layers):\n",
    "            all_layer_cnts[nf.layer_parent_nid(i)] += 1\n",
    "    print('batch size: {}'.format(batch_size))\n",
    "    print('Cache hits on the first layer:', cache_hits(last_layer_cnts, 0.1))\n",
    "    print('Cache hits on the layer next to the target nodes:', cache_hits(first_layer_cnts, 0.1))\n",
    "    print('Cache hits on all layers', cache_hits(all_layer_cnts, 0.1))"
   ]
  },
  {
   "cell_type": "code",
   "execution_count": null,
   "metadata": {},
   "outputs": [],
   "source": []
  }
 ],
 "metadata": {
  "kernelspec": {
   "display_name": "Python 3",
   "language": "python",
   "name": "python3"
  },
  "language_info": {
   "codemirror_mode": {
    "name": "ipython",
    "version": 3
   },
   "file_extension": ".py",
   "mimetype": "text/x-python",
   "name": "python",
   "nbconvert_exporter": "python",
   "pygments_lexer": "ipython3",
   "version": "3.6.9"
  }
 },
 "nbformat": 4,
 "nbformat_minor": 4
}
