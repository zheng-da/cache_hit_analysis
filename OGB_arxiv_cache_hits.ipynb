{
 "cells": [
  {
   "cell_type": "markdown",
   "metadata": {},
   "source": [
    "When training a graph neural network, we like to train them in a mini-batch fashion. When we need to scale the training to a large graph for GPU training, we need to keep node/edge data in CPU and stream data to GPU. Potentially, we can deploy a cache in GPU to reduce the amount of data sent to GPU.\n",
    "\n",
    "This notebook studies the potential cache hits for the mini-batch training in the GPU cache. This study assumes we use neighbor sampling to generate mini-batches and the neighbors are sampled uniformly at random. Apparently, the cache hits very much depend on the datasets."
   ]
  },
  {
   "cell_type": "code",
   "execution_count": 1,
   "metadata": {},
   "outputs": [
    {
     "name": "stderr",
     "output_type": "stream",
     "text": [
      "Using backend: pytorch\n",
      "/home/ubuntu/dgl/python/dgl/base.py:45: DGLWarning: Detected an old version of PyTorch. Suggest using torch>=1.5.0 for the best experience.\n",
      "  return warnings.warn(message, category=category, stacklevel=1)\n"
     ]
    }
   ],
   "source": [
    "import dgl\n",
    "from ogb.nodeproppred import DglNodePropPredDataset"
   ]
  },
  {
   "cell_type": "markdown",
   "metadata": {},
   "source": [
    "## Study with the OGB product graph dataset\n",
    "\n",
    "This is commonly used benchmark for many graph neural networks."
   ]
  },
  {
   "cell_type": "code",
   "execution_count": 2,
   "metadata": {},
   "outputs": [
    {
     "name": "stderr",
     "output_type": "stream",
     "text": [
      "\r",
      "  0%|          | 0/81 [00:00<?, ?it/s]"
     ]
    },
    {
     "name": "stdout",
     "output_type": "stream",
     "text": [
      "Downloading https://snap.stanford.edu/ogb/data/nodeproppred/arxiv.zip\n"
     ]
    },
    {
     "name": "stderr",
     "output_type": "stream",
     "text": [
      "Downloaded 0.08 GB: 100%|██████████| 81/81 [00:30<00:00,  2.62it/s]\n"
     ]
    },
    {
     "name": "stdout",
     "output_type": "stream",
     "text": [
      "Extracting dataset/arxiv.zip\n",
      "Loading necessary files...\n",
      "This might take a while.\n"
     ]
    },
    {
     "name": "stderr",
     "output_type": "stream",
     "text": [
      "100%|██████████| 1/1 [00:00<00:00, 6710.89it/s]\n",
      "  0%|          | 0/1 [00:00<?, ?it/s]/home/ubuntu/dgl/python/dgl/base.py:45: DGLWarning: Recommend creating graphs by `dgl.graph(data)` instead of `dgl.DGLGraph(data)`.\n",
      "  return warnings.warn(message, category=category, stacklevel=1)\n",
      "100%|██████████| 1/1 [00:00<00:00, 32.21it/s]"
     ]
    },
    {
     "name": "stdout",
     "output_type": "stream",
     "text": [
      "Processing graphs...\n",
      "Converting graphs into DGL objects...\n"
     ]
    },
    {
     "name": "stderr",
     "output_type": "stream",
     "text": [
      "\n"
     ]
    }
   ],
   "source": [
    "data = DglNodePropPredDataset(name='ogbn-arxiv')\n",
    "g, _ = data[0]"
   ]
  },
  {
   "cell_type": "code",
   "execution_count": 3,
   "metadata": {},
   "outputs": [
    {
     "name": "stdout",
     "output_type": "stream",
     "text": [
      "|V|=169343, |E|=1166243\n"
     ]
    }
   ],
   "source": [
    "print('|V|={}, |E|={}'.format(g.number_of_nodes(), g.number_of_edges()))"
   ]
  },
  {
   "cell_type": "markdown",
   "metadata": {},
   "source": [
    "Now let's study if the graph has power-law distribution on degree."
   ]
  },
  {
   "cell_type": "code",
   "execution_count": 4,
   "metadata": {},
   "outputs": [],
   "source": [
    "indeg = g.in_degrees().numpy()"
   ]
  },
  {
   "cell_type": "code",
   "execution_count": 5,
   "metadata": {},
   "outputs": [
    {
     "data": {
      "text/plain": [
       "(array([169312,     17,      8,      3,      0,      0,      0,      1,\n",
       "             0,      2]),\n",
       " array([    0. ,  1315.5,  2631. ,  3946.5,  5262. ,  6577.5,  7893. ,\n",
       "         9208.5, 10524. , 11839.5, 13155. ]))"
      ]
     },
     "execution_count": 5,
     "metadata": {},
     "output_type": "execute_result"
    }
   ],
   "source": [
    "import numpy as np\n",
    "np.histogram(indeg)"
   ]
  },
  {
   "cell_type": "code",
   "execution_count": 6,
   "metadata": {},
   "outputs": [
    {
     "name": "stdout",
     "output_type": "stream",
     "text": [
      "[0.7497039639251855, 0.8637625263345632, 0.9231360874191742, 0.9587590236340111, 0.9805657997518528, 0.995085929776213, 1.0, 1.0, 1.0, 1.0]\n"
     ]
    }
   ],
   "source": [
    "indeg = np.sort(indeg)\n",
    "ratio = []\n",
    "for i in range(10):\n",
    "    r = np.sum(indeg[int(len(indeg)/10*(9-i)):])/np.sum(indeg)\n",
    "    ratio.append(r)\n",
    "print(ratio)"
   ]
  },
  {
   "cell_type": "markdown",
   "metadata": {},
   "source": [
    "The degree of this graph isn't very skewed compared with many other graphs, but the 10% largest-degree nodes have edges that account for close to 50%."
   ]
  },
  {
   "cell_type": "code",
   "execution_count": 8,
   "metadata": {},
   "outputs": [
    {
     "data": {
      "image/png": "[encoded data removed]",
      "text/plain": [
       "<Figure size 432x288 with 1 Axes>"
      ]
     },
     "metadata": {
      "needs_background": "light"
     },
     "output_type": "display_data"
    }
   ],
   "source": [
    "import matplotlib.pyplot as plt\n",
    "plt.plot(np.arange(10)*0.1, np.array(ratio))\n",
    "plt.ylabel('cache hits')\n",
    "plt.xlabel('percent of nodes')\n",
    "plt.show()"
   ]
  },
  {
   "cell_type": "markdown",
   "metadata": {},
   "source": [
    "## Simulate cache hits\n",
    "\n",
    "One effective way of caching nodes in a power-law graph is to use LFU (least-frequently used). The simulation here is to basically keep the highest-degree nodes in the cache and see what cache hits it can generate. This simulation should generate the lower bound of the cache hits."
   ]
  },
  {
   "cell_type": "code",
   "execution_count": 28,
   "metadata": {},
   "outputs": [],
   "source": [
    "def cache_hits(cnts, ratio):\n",
    "    deg = g.out_degrees().numpy()\n",
    "    deg1 = np.sort(deg)\n",
    "    deg_threshold = deg1[int(len(deg1) * (1-ratio))]\n",
    "    return np.sum(cnts[deg > deg_threshold])/np.sum(cnts)"
   ]
  },
  {
   "cell_type": "markdown",
   "metadata": {},
   "source": [
    "We study cache hits for 2-layer GNN. If we cache node features, the cache hits also depend on how GNN uses node features. Typical GNN such as GCN only reads node features in the first layer (farthest away from the target nodes). But it's possible that some GNNs read node features in all layers. Therefore, I calculate the cache hits for both cases.\n",
    "\n",
    "Another factor can also affect the cache hit ratio. That is the batch size. The reason that batch size affects the cache hits is that in each layer we only read the features of a node once no matter how many times it appears in some nodes' neighborhood. Therefore, when the batch size is large, large-degree nodes appear many times in a layer but it only reads once. This reduces the cache hit ratio of the large-degree nodes.\n",
    "\n",
    "We can see that when the batch size is small, such as 10, the cache hit ratio is significantly higher, especially for the first layer. The reason that the batch size affects the cache hits so much is that the graph is very small. Its impact on a large graph will be much smaller unless we want to use very large batch size.\n",
    "\n",
    "Another thing we can notice is that the simulated cache hit ratio doesn't really follow the degree distribution. The previous calculation shows that the 10% largest-degree nodes have edges that account for close to 50%. However, if we cache the 10% large-degree nodes, we only get roughly 36% cache hits. This may suggest that the high-degree nodes are not well connected. In other words, a high-degree tends to connect with lower-degree nodes in Reddit. This is not necessary true in other datasets. More study is needed."
   ]
  },
  {
   "cell_type": "code",
   "execution_count": 29,
   "metadata": {},
   "outputs": [
    {
     "name": "stdout",
     "output_type": "stream",
     "text": [
      "batch size: 100\n",
      "#inputs: 1732652, #seeds: 169343\n",
      "Cache hits on the target layer: 0.09200852707227343\n",
      "Cache hits on the first layer: 0.2972905118858259\n",
      "batch size: 1000\n",
      "#inputs: 1612386, #seeds: 169343\n",
      "Cache hits on the target layer: 0.09200852707227343\n",
      "Cache hits on the first layer: 0.2775563667756976\n",
      "batch size: 10000\n",
      "#inputs: 1014477, #seeds: 169343\n",
      "Cache hits on the target layer: 0.09200852707227343\n",
      "Cache hits on the first layer: 0.19285405189077723\n"
     ]
    }
   ],
   "source": [
    "num_neighbors = 10\n",
    "num_hops = 2\n",
    "for batch_size in [100, 1000, 10000]:\n",
    "    last_layer_cnts = np.zeros(g.number_of_nodes())\n",
    "    first_layer_cnts = np.zeros(g.number_of_nodes())\n",
    "    all_layer_cnts = np.zeros(g.number_of_nodes())\n",
    "    \n",
    "    sampler = dgl.dataloading.MultiLayerNeighborSampler([num_neighbors, num_neighbors])\n",
    "    dataloader = dgl.dataloading.NodeDataLoader(\n",
    "        g,\n",
    "        np.arange(0, g.number_of_nodes()),\n",
    "        sampler,\n",
    "        batch_size=batch_size,\n",
    "        shuffle=False,\n",
    "        drop_last=False,\n",
    "        num_workers=4)\n",
    "    tot_seeds = 0\n",
    "    tot_inputs = 0\n",
    "    for input_nodes, seeds, blocks in dataloader:\n",
    "        tot_seeds += len(seeds)\n",
    "        tot_inputs += len(input_nodes)\n",
    "        last_layer_cnts[seeds] += 1\n",
    "        first_layer_cnts[input_nodes] += 1\n",
    "    print('batch size: {}'.format(batch_size))\n",
    "    print('#inputs: {}, #seeds: {}'.format(tot_inputs, tot_seeds))\n",
    "    print('Cache hits on the target layer:', cache_hits(last_layer_cnts, 0.1))\n",
    "    print('Cache hits on the first layer:', cache_hits(first_layer_cnts, 0.1))"
   ]
  },
  {
   "cell_type": "code",
   "execution_count": null,
   "metadata": {},
   "outputs": [],
   "source": []
  }
 ],
 "metadata": {
  "kernelspec": {
   "display_name": "Python 3",
   "language": "python",
   "name": "python3"
  },
  "language_info": {
   "codemirror_mode": {
    "name": "ipython",
    "version": 3
   },
   "file_extension": ".py",
   "mimetype": "text/x-python",
   "name": "python",
   "nbconvert_exporter": "python",
   "pygments_lexer": "ipython3",
   "version": "3.6.9"
  }
 },
 "nbformat": 4,
 "nbformat_minor": 4
}
